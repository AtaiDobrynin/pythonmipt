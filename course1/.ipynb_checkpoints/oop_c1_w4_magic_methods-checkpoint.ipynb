{
 "cells": [
  {
   "cell_type": "code",
   "execution_count": 45,
   "metadata": {},
   "outputs": [],
   "source": [
    "import tempfile\n",
    "import os\n",
    "\n",
    "class File:\n",
    "    def __init__(self, path):\n",
    "        self.path = path\n",
    "        self.itero = None\n",
    "        \n",
    "    def __add__(self, obj):\n",
    "        new_path = os.path.join(tempfile.gettempdir(), 'new.txt')\n",
    "        with open(new_path, 'a') as ouf:\n",
    "            with open(self.path, 'r') as inf:\n",
    "                ouf.write(inf.read())\n",
    "            with open(obj.path, 'r') as inf:\n",
    "                ouf.write(inf.read())\n",
    "        return File(new_path)\n",
    "    \n",
    "    def write(self, phrase):\n",
    "        with open(self.path, 'w') as ouf:\n",
    "            ouf.write(phrase)\n",
    "        \n",
    "    def __str__(self):\n",
    "        return(\"'{}'\".format(self.path))\n",
    "    \n",
    "    def __iter__(self):\n",
    "        self.itero = open(self.path, 'r')\n",
    "        return self\n",
    "    \n",
    "    def __next__(self):\n",
    "        result = self.itero.readline()\n",
    "        if not result:\n",
    "            self.itero.close()\n",
    "            raise StopIteration\n",
    "        return result\n",
    "        "
   ]
  },
  {
   "cell_type": "code",
   "execution_count": 46,
   "metadata": {},
   "outputs": [],
   "source": [
    "obj = File('aaa.txt')"
   ]
  },
  {
   "cell_type": "code",
   "execution_count": 47,
   "metadata": {},
   "outputs": [],
   "source": [
    "obj.write('line\\nasdasdasda\\ndasdasdasdadas\\nadadsad\\n')"
   ]
  },
  {
   "cell_type": "code",
   "execution_count": 48,
   "metadata": {},
   "outputs": [],
   "source": [
    "obj1 = File('bbb.txt')\n",
    "obj1.write('fasfafaf')"
   ]
  },
  {
   "cell_type": "code",
   "execution_count": 49,
   "metadata": {},
   "outputs": [],
   "source": [
    "nw = obj + obj1"
   ]
  },
  {
   "cell_type": "code",
   "execution_count": 50,
   "metadata": {},
   "outputs": [
    {
     "name": "stdout",
     "output_type": "stream",
     "text": [
      "line\n",
      "\n",
      "asdasdasda\n",
      "\n",
      "dasdasdasdadas\n",
      "\n",
      "adadsad\n",
      "\n",
      "fasfafafline\n",
      "\n",
      "asdasdasda\n",
      "\n",
      "dasdasdasdadas\n",
      "\n",
      "adadsad\n",
      "\n",
      "fasfafaf\n"
     ]
    }
   ],
   "source": [
    "for line in nw:\n",
    "    print(line)"
   ]
  }
 ],
 "metadata": {
  "kernelspec": {
   "display_name": "Python 3",
   "language": "python",
   "name": "python3"
  },
  "language_info": {
   "codemirror_mode": {
    "name": "ipython",
    "version": 3
   },
   "file_extension": ".py",
   "mimetype": "text/x-python",
   "name": "python",
   "nbconvert_exporter": "python",
   "pygments_lexer": "ipython3",
   "version": "3.7.4"
  }
 },
 "nbformat": 4,
 "nbformat_minor": 2
}
