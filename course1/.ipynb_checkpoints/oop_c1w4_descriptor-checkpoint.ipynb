{
 "cells": [
  {
   "cell_type": "code",
   "execution_count": 3,
   "metadata": {},
   "outputs": [],
   "source": [
    "class Value:\n",
    "    def __init__(self):\n",
    "        self.value = None\n",
    "    @staticmethod\n",
    "    def _prepare_value(value, comm):\n",
    "        return value * (1.0 - comm)\n",
    "    def __get__(self, obj, obj_type):\n",
    "        return self.value\n",
    "    def __set__(self, obj, value):\n",
    "        self.value = self._prepare_value(value, obj.commission)"
   ]
  },
  {
   "cell_type": "code",
   "execution_count": 4,
   "metadata": {},
   "outputs": [
    {
     "name": "stdout",
     "output_type": "stream",
     "text": [
      "90.0\n"
     ]
    }
   ],
   "source": [
    "class Account:\n",
    "    amount = Value()\n",
    "    \n",
    "    def __init__(self, commission):\n",
    "        self.commission = commission\n",
    "new_account = Account(0.1)\n",
    "new_account.amount = 100\n",
    "\n",
    "print(new_account.amount)"
   ]
  },
  {
   "cell_type": "code",
   "execution_count": null,
   "metadata": {},
   "outputs": [],
   "source": []
  }
 ],
 "metadata": {
  "kernelspec": {
   "display_name": "Python 3",
   "language": "python",
   "name": "python3"
  },
  "language_info": {
   "codemirror_mode": {
    "name": "ipython",
    "version": 3
   },
   "file_extension": ".py",
   "mimetype": "text/x-python",
   "name": "python",
   "nbconvert_exporter": "python",
   "pygments_lexer": "ipython3",
   "version": "3.7.4"
  }
 },
 "nbformat": 4,
 "nbformat_minor": 2
}
