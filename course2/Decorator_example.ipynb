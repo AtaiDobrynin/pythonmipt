{
 "cells": [
  {
   "cell_type": "code",
   "execution_count": 1,
   "metadata": {
    "scrolled": true
   },
   "outputs": [],
   "source": [
    "from decorator_pattern import *\n",
    "from abc import ABC, abstractmethod"
   ]
  },
  {
   "cell_type": "code",
   "execution_count": 2,
   "metadata": {
    "scrolled": true
   },
   "outputs": [],
   "source": [
    "hero = Hero()\n",
    "brs1 = Berserk(hero)\n",
    "brs2 = Berserk(brs1)\n",
    "cur1 = Curse(brs2)\n",
    "cur2 = Curse(cur1)\n",
    "bls1 = Blessing(cur2)"
   ]
  },
  {
   "cell_type": "code",
   "execution_count": 3,
   "metadata": {},
   "outputs": [
    {
     "name": "stdout",
     "output_type": "stream",
     "text": [
      "{'HP': 128, 'MP': 42, 'SP': 100, 'Strength': 15, 'Perception': 4, 'Endurance': 8, 'Charisma': 2, 'Intelligence': 3, 'Agility': 8, 'Luck': 1}\n"
     ]
    }
   ],
   "source": [
    "print(hero.get_stats())"
   ]
  },
  {
   "cell_type": "code",
   "execution_count": 4,
   "metadata": {},
   "outputs": [
    {
     "name": "stdout",
     "output_type": "stream",
     "text": [
      "{'HP': 228, 'MP': 42, 'SP': 100, 'Strength': 27, 'Perception': -4, 'Endurance': 20, 'Charisma': -6, 'Intelligence': -5, 'Agility': 20, 'Luck': 13}\n",
      "['Berserk', 'Berserk', 'Blessing']\n",
      "['Curse', 'Curse']\n"
     ]
    }
   ],
   "source": [
    "print(bls1.get_stats())\n",
    "print(bls1.get_positive_effects())\n",
    "print(bls1.get_negative_effects())"
   ]
  },
  {
   "cell_type": "code",
   "execution_count": 5,
   "metadata": {},
   "outputs": [
    {
     "name": "stdout",
     "output_type": "stream",
     "text": [
      "{'HP': 178, 'MP': 42, 'SP': 100, 'Strength': 20, 'Perception': -1, 'Endurance': 13, 'Charisma': -3, 'Intelligence': -2, 'Agility': 13, 'Luck': 6}\n",
      "['Berserk', 'Blessing']\n",
      "['Curse', 'Curse']\n"
     ]
    }
   ],
   "source": [
    "cur1.base = brs1\n",
    "print(bls1.get_stats())\n",
    "print(bls1.get_positive_effects())\n",
    "print(bls1.get_negative_effects())"
   ]
  }
 ],
 "metadata": {
  "kernelspec": {
   "display_name": "Python 3",
   "language": "python",
   "name": "python3"
  },
  "language_info": {
   "codemirror_mode": {
    "name": "ipython",
    "version": 3
   },
   "file_extension": ".py",
   "mimetype": "text/x-python",
   "name": "python",
   "nbconvert_exporter": "python",
   "pygments_lexer": "ipython3",
   "version": "3.7.4"
  }
 },
 "nbformat": 4,
 "nbformat_minor": 2
}
